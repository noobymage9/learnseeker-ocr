{
 "cells": [
  {
   "cell_type": "markdown",
   "id": "responsible-photography",
   "metadata": {},
   "source": [
    "## Dependencies"
   ]
  },
  {
   "cell_type": "code",
   "execution_count": null,
   "id": "unusual-murray",
   "metadata": {},
   "outputs": [],
   "source": [
    "from io import BytesIO\n",
    "from pdf2image import convert_from_path\n",
    "from os import listdir, makedirs\n",
    "from os.path import isfile, join\n",
    "from tqdm import tqdm\n",
    "from glob import glob\n",
    "from scipy import ndimage\n",
    "import matplotlib.pyplot as plt\n",
    "import cv2 as cv\n",
    "import numpy as np\n",
    "import pytesseract\n",
    "import math\n",
    "import copy\n",
    "import imutils\n",
    "from PIL import Image"
   ]
  },
  {
   "cell_type": "markdown",
   "id": "determined-rough",
   "metadata": {},
   "source": [
    "## Constants"
   ]
  },
  {
   "cell_type": "code",
   "execution_count": null,
   "id": "catholic-roberts",
   "metadata": {},
   "outputs": [],
   "source": [
    "IMAGE_PATH = \"../dataset/image\"\n",
    "CHARACTER_PATH = '../dataset/characters'\n",
    "\n",
    "# Set plot size\n",
    "plt.rcParams[\"figure.figsize\"] = 15, 15"
   ]
  },
  {
   "cell_type": "markdown",
   "id": "charged-mercury",
   "metadata": {},
   "source": [
    "## Isolation of characters"
   ]
  },
  {
   "cell_type": "code",
   "execution_count": null,
   "id": "settled-prime",
   "metadata": {
    "scrolled": true
   },
   "outputs": [],
   "source": [
    "filenames = glob(''.join([IMAGE_PATH, '/*/*.png']))\n",
    "filenames.sort()\n",
    "image = cv.imread(filenames[130], cv.IMREAD_GRAYSCALE)\n",
    "threshold, binarized = cv.threshold(image, 0, 255, cv.THRESH_BINARY | cv.THRESH_OTSU)\n",
    "\n",
    "cannied = cv.Canny(binarized, 50, 200, None, 3)\n",
    "\n",
    "# For ease of view\n",
    "distance_resolution = 1\n",
    "angle_resolution = np.pi / 180\n",
    "vote_threshold = 180\n",
    "lines = cv.HoughLines(cannied, distance_resolution, angle_resolution, vote_threshold)\n",
    "skew_angles = []\n",
    "if lines is not None:\n",
    "    for line in lines:\n",
    "        rho = line[0][0]\n",
    "        theta = line[0][1]\n",
    "        a = math.cos(theta)\n",
    "        b = math.sin(theta)\n",
    "        x0 = a * rho\n",
    "        y0 = b * rho\n",
    "        pt1 = (int(x0 + 1000*(-b)), int(y0 + 1000*(a)))\n",
    "        pt2 = (int(x0 - 1000*(-b)), int(y0 - 1000*(a)))\n",
    "        dev_from_hrzntal_in_rad = np.pi / 2 - theta \n",
    "        dev_from_hrzntal_in_deg = dev_from_hrzntal_in_rad / np.pi * 180\n",
    "        \n",
    "        if (abs(dev_from_hrzntal_in_deg) < 10):\n",
    "            skew_angles.append(dev_from_hrzntal_in_deg)\n",
    "        \n",
    "deskew_angle = sum(skew_angles) / len(skew_angles)\n",
    "deskewed_image = ndimage.rotate(binarized, -deskew_angle)\n",
    "\n",
    "aperture_size = 5\n",
    "denoised_image = cv.medianBlur(deskewed_image, aperture_size)\n",
    "\n",
    "underlay = np.copy(denoised_image)\n",
    "complete_binarized_image = np.copy(denoised_image)\n",
    "\n",
    "\n",
    "contours, hier = cv.findContours(cv.bitwise_not(complete_binarized_image), cv.RETR_EXTERNAL, cv.CHAIN_APPROX_SIMPLE)\n",
    "rects = []\n",
    "\n",
    "for idx, c in enumerate(contours):\n",
    "    x, y, w, h = cv.boundingRect(c)\n",
    "    rects.append((x, y, w, h))\n",
    "    # cv.rectangle(underlay, (x, y), (x + w, y + h), 0, 1)  \n",
    "    \n",
    "\n",
    "CHARACTER_WIDTH = 20\n",
    "character_rects = []\n",
    "PIXEL_THRESHOLD = 30\n",
    "for rect in rects:\n",
    "    if rect[2] < CHARACTER_WIDTH:\n",
    "        character_rects.append(rect)\n",
    "    else:\n",
    "        word_image = denoised_image[rect[1]:(rect[1] + rect[3]), rect[0]:(rect[0] + rect[2])]\n",
    "        projection = np.sum(word_image, 0)\n",
    "        start = 0\n",
    "        in_range = False\n",
    "        for idx, pixel_count in enumerate(projection):\n",
    "            if pixel_count >= PIXEL_THRESHOLD * 255:\n",
    "                if not in_range:\n",
    "                    in_range = True\n",
    "                    start = idx\n",
    "            else:\n",
    "                if in_range:\n",
    "                    in_range = False\n",
    "                    character_rects.append((start + rect[0], rect[1], idx - start, rect[3]))\n",
    "                    start = idx\n",
    "\n",
    "# for idx, rect in tqdm(enumerate(character_rects)):\n",
    "#     x, y, w, h = rect\n",
    "#     cv.rectangle(underlay, (x, y), (x + w, y + h), 0, 1) \n",
    "#     word_image = denoised_image[rect[1]:(rect[1] + rect[3]), rect[0]:(rect[0] + rect[2])]\n",
    "#     word_image = Image.fromarray(word_image)\n",
    "#     word_image.save(''.join([CHARACTER_PATH, '/', f'{idx}.png']), 'PNG')\n",
    "\n",
    "plt.imshow(cv.cvtColor(underlay, cv.COLOR_BGR2RGB))\n",
    "\n"
   ]
  },
  {
   "cell_type": "code",
   "execution_count": null,
   "id": "young-modem",
   "metadata": {},
   "outputs": [],
   "source": [
    "idx = 91"
   ]
  },
  {
   "cell_type": "code",
   "execution_count": null,
   "id": "proud-bulletin",
   "metadata": {},
   "outputs": [],
   "source": [
    "print(len(rects))\n",
    "word_image = denoised_image[rects[idx][1]:(rects[idx][1] + rects[idx][3]), rects[idx][0]:(rects[idx][0] + rects[idx][2])]\n",
    "underlay = np.copy(word_image)\n",
    "\n",
    "kernel = np.ones((3,3),np.uint8)\n",
    "word_image = cv.dilate(word_image, kernel, iterations = 1)\n",
    "\n",
    "contours, hier = cv.findContours(cv.bitwise_not(word_image), cv.RETR_EXTERNAL, cv.CHAIN_APPROX_SIMPLE)\n",
    "temp = []\n",
    "for c in contours:\n",
    "    x, y, w, h = cv.boundingRect(c)\n",
    "    temp.append((x, y, w, h))\n",
    "    cv.rectangle(underlay, (x, y), (x + w, y + h), 255, 1)\n",
    "    \n",
    "    \n",
    "plt.imshow(cv.cvtColor(underlay, cv.COLOR_BGR2RGB))\n",
    "\n",
    "word_image = cv.cvtColor(underlay, cv.COLOR_BGR2RGB)\n",
    "word_image = Image.fromarray(word_image)\n",
    "word_image.save(''.join([CHARACTER_PATH, '/', f'{idx}.png']), 'PNG')\n"
   ]
  },
  {
   "cell_type": "code",
   "execution_count": null,
   "id": "substantial-recovery",
   "metadata": {
    "scrolled": false
   },
   "outputs": [],
   "source": [
    "print(len(rects))\n",
    "word_image = denoised_image[rects[idx][1]:(rects[idx][1] + rects[idx][3]), rects[idx][0]:(rects[idx][0] + rects[idx][2])]\n",
    "underlay = np.copy(word_image)\n",
    "\n",
    "character_rects = []\n",
    "PIXEL_THRESHOLD = 20\n",
    "projection = np.sum(word_image, 0)\n",
    "print(projection)\n",
    "start = 0\n",
    "in_range = False\n",
    "for index, pixel_count in enumerate(projection):\n",
    "    if pixel_count < PIXEL_THRESHOLD * 255:\n",
    "        if not in_range:\n",
    "            print(index)\n",
    "            in_range = True\n",
    "            start = index\n",
    "    else:\n",
    "        if in_range:\n",
    "            in_range = False\n",
    "            character_rects.append((start, 0, index - start, rects[idx][3]))\n",
    "            start = index\n",
    "\n",
    "for idx, (x, y, w, h) in enumerate(character_rects):\n",
    "    cv.rectangle(underlay, (x, y), (x + w, y + h), 0, 1) \n",
    "\n",
    "print(character_rects)\n",
    "plt.imshow(cv.cvtColor(underlay, cv.COLOR_BGR2RGB))\n",
    "\n",
    "word_image = cv.cvtColor(underlay, cv.COLOR_BGR2RGB)\n",
    "word_image = Image.fromarray(word_image)\n",
    "word_image.save(''.join([CHARACTER_PATH, '/', f'{idx}.png']), 'PNG')"
   ]
  }
 ],
 "metadata": {
  "kernelspec": {
   "display_name": "learnseeker-ocr",
   "language": "python",
   "name": "learnseeker-ocr"
  },
  "language_info": {
   "codemirror_mode": {
    "name": "ipython",
    "version": 3
   },
   "file_extension": ".py",
   "mimetype": "text/x-python",
   "name": "python",
   "nbconvert_exporter": "python",
   "pygments_lexer": "ipython3",
   "version": "3.8.5"
  }
 },
 "nbformat": 4,
 "nbformat_minor": 5
}
