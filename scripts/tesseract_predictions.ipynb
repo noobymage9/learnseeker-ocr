{
 "cells": [
  {
   "cell_type": "code",
   "execution_count": 26,
   "id": "swiss-attribute",
   "metadata": {},
   "outputs": [],
   "source": [
    "from io import BytesIO\n",
    "from pdf2image import convert_from_path\n",
    "from os import listdir, makedirs, popen\n",
    "from os.path import isfile, join\n",
    "from tqdm import tqdm\n",
    "from glob import glob\n",
    "from scipy import ndimage\n",
    "import matplotlib.pyplot as plt\n",
    "import cv2 as cv\n",
    "import numpy as np\n",
    "import pytesseract\n",
    "import calamari_ocr\n",
    "import kraken\n",
    "import math\n",
    "import copy"
   ]
  },
  {
   "cell_type": "code",
   "execution_count": 27,
   "id": "raising-familiar",
   "metadata": {},
   "outputs": [],
   "source": [
    "DUMP_PATH = '../dataset/recognitions'\n",
    "IMAGE_PATH = \"../dataset/phrases\""
   ]
  },
  {
   "cell_type": "code",
   "execution_count": 30,
   "id": "bacterial-resource",
   "metadata": {
    "scrolled": true
   },
   "outputs": [],
   "source": [
    "filenames = glob(''.join([IMAGE_PATH, '/*.png']))\n",
    "filenames.sort()\n",
    "for file_name in filenames:\n",
    "    image = cv.imread(file_name, cv.IMREAD_GRAYSCALE)\n",
    "    with open(f'{DUMP_PATH}/tesseract/{file_name.split(\"/\")[-1][:-4]}.txt', 'w') as file:\n",
    "        file.write(pytesseract.image_to_string(image))"
   ]
  }
 ],
 "metadata": {
  "kernelspec": {
   "display_name": "learnseeker-ocr",
   "language": "python",
   "name": "learnseeker-ocr"
  },
  "language_info": {
   "codemirror_mode": {
    "name": "ipython",
    "version": 3
   },
   "file_extension": ".py",
   "mimetype": "text/x-python",
   "name": "python",
   "nbconvert_exporter": "python",
   "pygments_lexer": "ipython3",
   "version": "3.8.5"
  }
 },
 "nbformat": 4,
 "nbformat_minor": 5
}
